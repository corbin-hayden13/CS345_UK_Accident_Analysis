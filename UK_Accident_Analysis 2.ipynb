{
 "cells": [
  {
   "cell_type": "code",
   "execution_count": 1,
   "metadata": {},
   "outputs": [],
   "source": [
    "# All dependencies\n",
    "import numpy as np\n",
    "import numpy.linalg as la\n",
    "import matplotlib.pyplot as plt\n",
    "import requests\n",
    "import pandas as pd\n",
    "import sys\n",
    "import matplotlib.pyplot as plt\n",
    "from copy import deepcopy\n",
    "from multiprocessing import Process, Queue, Event\n",
    "from sklearn.pipeline import Pipeline\n",
    "from sklearn.model_selection import train_test_split as tts, cross_validate, GridSearchCV as GSCV, KFold as KF\n",
    "from sklearn.preprocessing import StandardScaler as SS\n",
    "from sklearn.svm import SVC\n",
    "from sklearn.decomposition import PCA\n",
    "from os import path\n",
    "from time import time\n",
    "from mpl_toolkits.mplot3d import Axes3D as plt3"
   ]
  },
  {
   "cell_type": "markdown",
   "metadata": {},
   "source": [
    "**Commonly Used Methods**\n",
    "\n",
    "The methods below are commonly used when running a variety of classification and regression models.\n",
    "\n",
    "**Culling the Accidents Data**\n",
    "\n",
    "In the `accidents.csv` file, we found that there was too much data accidents of severity 2 and three recorded, leading to nearly unreadable graphs and an unusually high accuracy.  As a result, a method was created to ensure the number of all accidents was roughly even across all severities."
   ]
  },
  {
   "cell_type": "code",
   "execution_count": 2,
   "metadata": {},
   "outputs": [],
   "source": [
    "def plot_ftrs(X, y, dimensions=2, cmap=\"viridis\"):\n",
    "    components = PCA(n_components=(dimensions)).fit(X).transform(X)\n",
    "    if dimensions == 2:\n",
    "        fig = plt.figure().add_subplot(111)\n",
    "        scatter = fig.scatter(components[:, 0], components[:, 1], c=y, cmap=cmap)\n",
    "    else:\n",
    "        fig = plt.figure().add_subplot(111, projection=\"3d\")\n",
    "        scatter = fig.scatter(components[:, 0], components[:, 1], components[:, 2], c=y, cmap=cmap)\n",
    "    \n",
    "    plt.colorbar(scatter, ax=fig, ticks=list(np.unique(y)))\n",
    "    plt.show()\n",
    "\n",
    "def dataframe_from_csv(file_name, exclude_cols):\n",
    "    cols = list(pd.read_csv(f\"{file_name}.csv\", nrows=1))\n",
    "\n",
    "    return pd.read_csv(f\"{file_name}.csv\", usecols=[a for a in cols if a not in exclude_cols])\n",
    "\n",
    "def get_accuracy(y_test, y_pred, use_np_mean=False):\n",
    "    if use_np_mean:\n",
    "        accuracy = np.mean(y_test == y_pred)\n",
    "    else:\n",
    "        accuracy = np.dot(y_test, y_pred) / (la.norm(y_test) * la.norm(y_pred))\n",
    "    \n",
    "    return float(f\"{accuracy * 100:.3f}\")\n",
    "\n",
    "def cull_data(dataset, features, percent_of_even_data_to_use=1):\n",
    "    accident_data = data_frames[dataset][features].dropna().values\n",
    "    np.random.shuffle(accident_data)\n",
    "    \n",
    "    unique_labels, unique_label_counts = np.unique(accident_data[:, -1], return_counts = True)\n",
    "    returning_accident_data = accident_data[accident_data[:, -1] == unique_labels[0]][:int(np.min(unique_label_counts) * percent_of_even_data_to_use), :]\n",
    "    for l in range(1, len(unique_labels)):\n",
    "        returning_accident_data = np.vstack((returning_accident_data, accident_data[accident_data[:, -1] == unique_labels[l]][:int(np.min(unique_label_counts) * percent_of_even_data_to_use), :]))\n",
    "    \n",
    "    np.random.shuffle(returning_accident_data)\n",
    "    return returning_accident_data\n",
    "\n",
    "def mult_list(val_list):\n",
    "    product = len(val_list[0])\n",
    "\n",
    "    for val in val_list:\n",
    "        product *= len(val_list)\n",
    "\n",
    "    return product\n",
    "\n",
    "def count_iters(params):\n",
    "    param_lens = [len(val) for _, val in params.items()]\n",
    "    return sum(param_lens) + mult_list(param_lens)\n",
    "    \n",
    "\n",
    "def custom_cv(estimator, X, y, params, test_size=0.3, timed=True, verbose=False, multiprocessed=None):\n",
    "    fit_time = None\n",
    "    if timed: start_time = time()\n",
    "\n",
    "    X_train, X_test, y_train, y_test = tts(X, y, test_size=test_size)\n",
    "\n",
    "    pipe = Pipeline([(\"scaler\", SS()), (\"gscv\", GSCV(estimator, params, verbose=1 if verbose else 0))])\n",
    "    pipe.fit(X_train, y_train)\n",
    "    \n",
    "    if timed: fit_time = time() - start_time\n",
    "    if verbose and timed: print(f\"Total Cross Validation fit time: {fit_time / 60:.3f} minutes\")\n",
    "\n",
    "    ret_dict = {\n",
    "        \"best_accuracy\": get_accuracy(y_test, pipe.predict(X_test)),\n",
    "        \"best_params\": pipe.named_steps[\"gscv\"].best_params_,\n",
    "        \"best_score\": pipe.named_steps[\"gscv\"].best_score_\n",
    "    }\n",
    "    \n",
    "    if multiprocessed is None:\n",
    "        return ret_dict\n",
    "    else:\n",
    "        multiprocessed.put(ret_dict)\n",
    "        return\n",
    "\n",
    "def recursive_param_builder(sub_params, params_list, inter_param=None):\n",
    "    if inter_param is None: inter_param = {}\n",
    "\n",
    "    if len(sub_params.keys()) == 0: params_list.append(deepcopy(inter_param))\n",
    "    else:\n",
    "        next_key = list(sub_params.keys())[0]\n",
    "        for val in sub_params[next_key]:\n",
    "            inter_param[next_key] = [val]\n",
    "            recursive_param_builder({key: value for key, value in sub_params.items() if key != next_key}, params_list, inter_param)\n",
    "\n",
    "def check_terminate(output_queue, stop_event):\n",
    "    while not stop_event.is_set():\n",
    "        try:\n",
    "            terminate = input(\"Multiprocessing GSCV, send input to terminate: \", timeout=1)\n",
    "            output_queue.put(True)\n",
    "            return\n",
    "        except TimeoutError:\n",
    "            continue\n",
    "    \n",
    "def manual_checkpointed_cv(estimator, X, y, params, test_size=0.3, timed=True, verbose=False):\n",
    "    params_list = []\n",
    "    recursive_param_builder(params, params_list)\n",
    "\n",
    "    termination_queue = Queue()\n",
    "    ret_queue = Queue()\n",
    "    stop_event = Event()\n",
    "\n",
    "    termination_process = Process(target=check_terminate, args=(termination_queue, stop_event))\n",
    "    termination_process.start()\n",
    "\n",
    "    for a in range(0, len(params_list), 2):\n",
    "        p1 = Process(target=custom_cv, args=(estimator, X, y, params_list[a], test_size, timed, verbose, ret_queue))\n",
    "        p2 = Process(target=custom_cv, args=(estimator, X, y, params_list[a + 1], test_size, timed, verbose, ret_queue))\n",
    "\n",
    "        p1.start()\n",
    "        p2.start()\n",
    "\n",
    "    \n",
    "    "
   ]
  },
  {
   "cell_type": "code",
   "execution_count": 3,
   "metadata": {},
   "outputs": [
    {
     "name": "stdout",
     "output_type": "stream",
     "text": [
      "[{'kernel': ['linear'], 'C': [0.1], 'gamma': [0.1]}, {'kernel': ['linear'], 'C': [0.1], 'gamma': [1]}, {'kernel': ['linear'], 'C': [1], 'gamma': [0.1]}, {'kernel': ['linear'], 'C': [1], 'gamma': [1]}, {'kernel': ['rbf'], 'C': [0.1], 'gamma': [0.1]}, {'kernel': ['rbf'], 'C': [0.1], 'gamma': [1]}, {'kernel': ['rbf'], 'C': [1], 'gamma': [0.1]}, {'kernel': ['rbf'], 'C': [1], 'gamma': [1]}]\n"
     ]
    }
   ],
   "source": [
    "params = {\n",
    "    \"kernel\": [\"linear\", \"rbf\"],\n",
    "    \"C\": [0.001, 0.01, 0.1, 1, 10],\n",
    "    \"gamma\": [0.001, 0.01, 0.1, 1, 10],\n",
    "}\n",
    "\n",
    "test_params = {\n",
    "    \"kernel\": [\"linear\", \"rbf\"],\n",
    "    \"C\": [0.1, 1],\n",
    "    \"gamma\": [0.1, 1]\n",
    "}\n",
    "\n",
    "params_list = []\n",
    "recursive_param_builder(test_params, params_list)\n",
    "print(params_list)"
   ]
  },
  {
   "cell_type": "markdown",
   "metadata": {},
   "source": [
    "**Downloading of the Data Files**\n",
    "\n",
    "We used dropbox to store the CSV files and used their urls to load them into pandas Dataframes using our custom method `dataframe_from_csv`.\n",
    "To save load time, if the method first checks if the datasets are already downloading before attempting to download from the dropbox."
   ]
  },
  {
   "cell_type": "code",
   "execution_count": 4,
   "metadata": {},
   "outputs": [
    {
     "name": "stdout",
     "output_type": "stream",
     "text": [
      "Loading vehicles.csv\n",
      "Loading casualties.csv\n",
      "Loading accidents.csv\n",
      "Done!\n"
     ]
    }
   ],
   "source": [
    "# Download data files\n",
    "urls = {\n",
    "    \"vehicles\": \"https://www.dropbox.com/scl/fi/rfywugpl0vxo5mc5b7uy7/Vehicles0514.csv?rlkey=v4yygd6hc96ejfm9nt1fvadz9&dl=0\",\n",
    "    \"casualties\": \"https://www.dropbox.com/scl/fi/o1ljw70bzrwmx0x8etifq/Casualties0514.csv?rlkey=iwyg1ergtazhl6mgwqk78xn5s&dl=0\",\n",
    "    \"accidents\": \"https://www.dropbox.com/scl/fi/7enn6tyaavc8ch8hlib0f/Accidents0514.csv?rlkey=u316i9rln87722m1fefzfp5ba&dl=0\",\n",
    "    \"data-guide\": \"https://www.dropbox.com/scl/fi/amogx0ugusmivneq6ardz/Road-Accident-Safety-Data-Guide.xls?rlkey=rnkxrf6eqjer67x2lv99tzvvv&dl=0\"\n",
    "}\n",
    "\n",
    "data_frames = {}\n",
    "\n",
    "# pd.read_excel(urls[\"data-guide\"], sheet_name=\"Export Variables\", engine=\"xlrd\")\n",
    "\n",
    "exclude_columns = [\"Accident_Index\", \"LSOA_of_Accident_Location\"]\n",
    "for file_name in list(urls.keys())[:-1]:\n",
    "    print(f\"Loading {file_name}.csv\")\n",
    "    if path.exists(f\"{file_name}.csv\"):\n",
    "        data_frames[file_name] = dataframe_from_csv(file_name, exclude_columns)\n",
    "        continue\n",
    "        \n",
    "    direct_url = urls[file_name].replace(\"&dl=0\", \"&dl=1\")\n",
    "    response = requests.get(direct_url)\n",
    "\n",
    "    with open(f\"{file_name}.csv\", \"wb\") as f:\n",
    "        f.write(response.content)\n",
    "        print(f\"Wrote {file_name}.csv\")\n",
    "\n",
    "    data_frames[file_name] = dataframe_from_csv(file_name, exclude_columns)\n",
    "\n",
    "print(\"Done!\")"
   ]
  },
  {
   "cell_type": "code",
   "execution_count": 5,
   "metadata": {},
   "outputs": [],
   "source": [
    "# First Question: How does the weather impact the serverity of the accident?\n",
    "accident_data = cull_data(\n",
    "    \"accidents\",\n",
    "    [\"Weather_Conditions\", \"Road_Surface_Conditions\", \"Special_Conditions_at_Site\", \"Carriageway_Hazards\", \"Accident_Severity\"], \n",
    "    0.02\n",
    ")\n",
    "\n",
    "X = accident_data[:, :-1]\n",
    "y = accident_data[:, -1]"
   ]
  },
  {
   "cell_type": "code",
   "execution_count": 6,
   "metadata": {},
   "outputs": [
    {
     "data": {
      "image/png": "[encoded data removed]",
      "text/plain": [
       "<Figure size 640x480 with 2 Axes>"
      ]
     },
     "metadata": {},
     "output_type": "display_data"
    }
   ],
   "source": [
    "plot_ftrs(X, y, dimensions=2)"
   ]
  },
  {
   "cell_type": "code",
   "execution_count": 7,
   "metadata": {
    "scrolled": true
   },
   "outputs": [
    {
     "data": {
      "image/png": "[encoded data removed]",
      "text/plain": [
       "<Figure size 640x480 with 1 Axes>"
      ]
     },
     "metadata": {},
     "output_type": "display_data"
    }
   ],
   "source": [
    "plt.scatter(accident_data[:, 2], accident_data[:, 3], c=y, cmap=\"viridis\", alpha=0.75)\n",
    "plt.xlabel(\"Special Conditions\")\n",
    "plt.ylabel(\"Carriageway hazards\")\n",
    "plt.show()"
   ]
  },
  {
   "cell_type": "code",
   "execution_count": 8,
   "metadata": {},
   "outputs": [
    {
     "data": {
      "image/png": "[encoded data removed]",
      "text/plain": [
       "<Figure size 640x480 with 1 Axes>"
      ]
     },
     "metadata": {},
     "output_type": "display_data"
    }
   ],
   "source": [
    "plt.scatter(accident_data[:, 0], accident_data[:, 1], c=y, cmap=\"viridis\", alpha=0.75)\n",
    "plt.xlabel(\"Weather Conditions\")\n",
    "plt.ylabel(\"Road Conditions\")\n",
    "plt.show()"
   ]
  },
  {
   "cell_type": "code",
   "execution_count": 9,
   "metadata": {},
   "outputs": [
    {
     "name": "stdout",
     "output_type": "stream",
     "text": [
      "Fitting 5 folds for each of 50 candidates, totalling 250 fits\n",
      "Total Cross Validation fit time: 0.114 minutes\n"
     ]
    }
   ],
   "source": [
    "params = {\n",
    "    \"kernel\": [\"linear\", \"rbf\"],\n",
    "    \"C\": [0.001, 0.01, 0.1, 1, 10],\n",
    "    \"gamma\": [0.001, 0.01, 0.1, 1, 10],\n",
    "}\n",
    "results = custom_cv(SVC(), X, y, params=params, verbose=True)"
   ]
  },
  {
   "cell_type": "code",
   "execution_count": 10,
   "metadata": {},
   "outputs": [
    {
     "name": "stdout",
     "output_type": "stream",
     "text": [
      "Best SVM accuracy = 81.715%\n",
      "Best SVM parameters =  {'C': 1, 'gamma': 10, 'kernel': 'rbf'}\n",
      "Best SVM score = 0.343%\n"
     ]
    }
   ],
   "source": [
    "print(f\"Best SVM accuracy = {results['best_accuracy']:.3f}%\")\n",
    "print(\"Best SVM parameters = \", results['best_params'])\n",
    "print(f\"Best SVM score = {results['best_score']:.3f}%\")"
   ]
  },
  {
   "cell_type": "code",
   "execution_count": 11,
   "metadata": {},
   "outputs": [],
   "source": [
    "# Using Random Forests for a classifier\n",
    "from sklearn.model_selection import cross_val_score\n",
    "from sklearn.model_selection import StratifiedKFold\n",
    "\n",
    "from sklearn.tree import DecisionTreeClassifier\n",
    "from sklearn.ensemble import RandomForestClassifier"
   ]
  },
  {
   "cell_type": "code",
   "execution_count": 12,
   "metadata": {},
   "outputs": [],
   "source": [
    "def run_random_forest_classifier(X, y):\n",
    "    \n",
    "    rfc_params = {\n",
    "        \"n_estimators\": [10, 100, 1000],\n",
    "    }\n",
    "    rfc_results = custom_cv(RandomForestClassifier(), X, y, params = rfc_params, verbose = True);\n",
    "    \n",
    "    print(f\"Best RFC accuracy = {rfc_results['best_accuracy']:.3f}%\")\n",
    "    print(\"Best RFC parameters = \", rfc_results['best_params'])\n",
    "    print(f\"Best RFC score = {rfc_results['best_score']:.3f}%\")\n",
    "    \n",
    "    return rfc_results['best_accuracy']"
   ]
  },
  {
   "cell_type": "code",
   "execution_count": 13,
   "metadata": {
    "scrolled": true
   },
   "outputs": [
    {
     "name": "stdout",
     "output_type": "stream",
     "text": [
      "Fitting 5 folds for each of 3 candidates, totalling 15 fits\n",
      "Total Cross Validation fit time: 0.091 minutes\n",
      "Best RFC accuracy = 89.836%\n",
      "Best RFC parameters =  {'n_estimators': 10}\n",
      "Best RFC score = 0.331%\n",
      "Accuracy of Random Forest Classification:  89.836\n"
     ]
    }
   ],
   "source": [
    "print(\"Accuracy of Random Forest Classification: \", run_random_forest_classifier(X, y))"
   ]
  },
  {
   "cell_type": "code",
   "execution_count": 14,
   "metadata": {},
   "outputs": [],
   "source": [
    "from sklearn.neighbors import KNeighborsClassifier\n",
    "def run_knn_classifier(X, y):\n",
    "    knn_params = {\n",
    "        \"n_neighbors\": [1, 2, 4, 8, 10, 20, 40, 80],\n",
    "    }\n",
    "    knn_results = custom_cv(KNeighborsClassifier(), X, y, params = knn_params, verbose = True)\n",
    "    \n",
    "    print(f\"Best KNN accuracy = {knn_results['best_accuracy']:.3f}%\")\n",
    "    print(\"Best KNN parameters = \", knn_results['best_params'])\n",
    "    print(f\"Best KNN score = {knn_results['best_score']:.3f}%\")\n",
    "    \n",
    "    return knn_results['best_accuracy']"
   ]
  },
  {
   "cell_type": "code",
   "execution_count": 15,
   "metadata": {},
   "outputs": [
    {
     "name": "stdout",
     "output_type": "stream",
     "text": [
      "Fitting 5 folds for each of 8 candidates, totalling 40 fits\n",
      "Total Cross Validation fit time: 0.003 minutes\n",
      "Best KNN accuracy = 90.464%\n",
      "Best KNN parameters =  {'n_neighbors': 80}\n",
      "Best KNN score = 0.346%\n",
      "Accuracy of K Nearest Neighbors Classification:  90.464\n"
     ]
    }
   ],
   "source": [
    "print(\"Accuracy of K Nearest Neighbors Classification: \", run_knn_classifier(X, y))"
   ]
  }
 ],
 "metadata": {
  "kernelspec": {
   "display_name": "Python 3 (ipykernel)",
   "language": "python",
   "name": "python3"
  },
  "language_info": {
   "codemirror_mode": {
    "name": "ipython",
    "version": 3
   },
   "file_extension": ".py",
   "mimetype": "text/x-python",
   "name": "python",
   "nbconvert_exporter": "python",
   "pygments_lexer": "ipython3",
   "version": "3.11.4"
  }
 },
 "nbformat": 4,
 "nbformat_minor": 4
}
