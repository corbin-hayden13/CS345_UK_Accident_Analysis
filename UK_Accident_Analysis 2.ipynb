{
 "cells": [
  {
   "cell_type": "code",
   "execution_count": 8,
   "metadata": {},
   "outputs": [],
   "source": [
    "# All dependencies\n",
    "\n",
    "import numpy as np\n",
    "import numpy.linalg as la\n",
    "import matplotlib.pyplot as plt\n",
    "import requests\n",
    "import pandas as pd\n",
    "import sys\n",
    "from sklearn.pipeline import Pipeline\n",
    "from sklearn.model_selection import train_test_split as tts\n",
    "from sklearn.preprocessing import StandardScaler as SS\n",
    "from sklearn.svm import SVC\n",
    "from os import path\n",
    "from time import time"
   ]
  },
  {
   "cell_type": "code",
   "execution_count": 2,
   "metadata": {},
   "outputs": [],
   "source": [
    "def dataframe_from_csv(file_name, exclude_cols):\n",
    "    cols = list(pd.read_csv(f\"{file_name}.csv\", nrows=1))\n",
    "\n",
    "    return pd.read_csv(f\"{file_name}.csv\", usecols=[a for a in cols if a not in exclude_cols])\n",
    "\n",
    "def get_accuracy(y_test, y_pred, use_np_mean=False):\n",
    "    if use_np_mean:\n",
    "        accuracy = np.mean(y_test == y_pred)\n",
    "    else:\n",
    "        accuracy = np.dot(y_test, y_pred) / (la.norm(y_test) * la.norm(y_pred))\n",
    "    \n",
    "    return float(f\"{accuracy * 100:.3f}\")"
   ]
  },
  {
   "cell_type": "code",
   "execution_count": 3,
   "metadata": {},
   "outputs": [
    {
     "name": "stdout",
     "output_type": "stream",
     "text": [
      "Loading vehicles.csv\n",
      "Loading casualties.csv\n",
      "Loading accidents.csv\n",
      "Done!\n"
     ]
    }
   ],
   "source": [
    "# Download data files\n",
    "urls = {\n",
    "    \"vehicles\": \"https://www.dropbox.com/scl/fi/rfywugpl0vxo5mc5b7uy7/Vehicles0514.csv?rlkey=v4yygd6hc96ejfm9nt1fvadz9&dl=0\",\n",
    "    \"casualties\": \"https://www.dropbox.com/scl/fi/o1ljw70bzrwmx0x8etifq/Casualties0514.csv?rlkey=iwyg1ergtazhl6mgwqk78xn5s&dl=0\",\n",
    "    \"accidents\": \"https://www.dropbox.com/scl/fi/7enn6tyaavc8ch8hlib0f/Accidents0514.csv?rlkey=u316i9rln87722m1fefzfp5ba&dl=0\",\n",
    "    \"data-guide\": \"https://www.dropbox.com/scl/fi/amogx0ugusmivneq6ardz/Road-Accident-Safety-Data-Guide.xls?rlkey=rnkxrf6eqjer67x2lv99tzvvv&dl=0\"\n",
    "}\n",
    "\n",
    "data_frames = {}\n",
    "\n",
    "exclude_columns = [\"Accident_Index\", \"LSOA_of_Accident_Location\"]\n",
    "for file_name in list(urls.keys())[:-1]:\n",
    "    print(f\"Loading {file_name}.csv\")\n",
    "    if path.exists(f\"{file_name}.csv\"):\n",
    "        data_frames[file_name] = dataframe_from_csv(file_name, exclude_columns)\n",
    "        continue\n",
    "        \n",
    "    direct_url = urls[file_name].replace(\"&dl=0\", \"&dl=1\")\n",
    "    response = requests.get(direct_url)\n",
    "\n",
    "    with open(f\"{file_name}.csv\", \"wb\") as f:\n",
    "        f.write(response.content)\n",
    "        print(f\"Wrote {file_name}.csv\")\n",
    "\n",
    "    data_frames[file_name] = dataframe_from_csv(file_name, exclude_columns)\n",
    "\n",
    "print(\"Done!\")"
   ]
  },
  {
   "cell_type": "code",
   "execution_count": 11,
   "metadata": {},
   "outputs": [
    {
     "name": "stdout",
     "output_type": "stream",
     "text": [
      "Fitting accident data...\n",
      "Accuracy = 99.047%\n",
      "\n",
      "Fitting 164049 features took 90.993 seconds\n"
     ]
    }
   ],
   "source": [
    "# First Question: How does the weather impact the serverity of the accident?\n",
    "weather_conditions = [\"Longitude\", \"Latitude\", \"Weather_Conditions\", \"Road_Surface_Conditions\",\n",
    "                      \"Special_Conditions_at_Site\", \"Carriageway_Hazards\", \"Accident_Severity\"]\n",
    "accident_data = data_frames[\"accidents\"][weather_conditions]\n",
    "# Remove all nan rows (only for longitude and latitude)\n",
    "accident_data = accident_data.dropna().values\n",
    "num_features = int(accident_data.shape[0] * 0.1) + 1\n",
    "accident_data = accident_data[:num_features]\n",
    "\n",
    "X = accident_data[:, :-1]\n",
    "y = accident_data[:, -1]\n",
    "\n",
    "X_train, X_test, y_train, y_test = tts(X, y, test_size=0.3)\n",
    "\n",
    "accident_pipe = Pipeline([(\"scaler\", SS()), (\"svc\", SVC(kernel=\"linear\"))])\n",
    "print(\"Fitting accident data...\")\n",
    "start_time = time()\n",
    "accident_pipe.fit(X_train, y_train)\n",
    "print(f\"Accuracy = {get_accuracy(y_test, accident_pipe.predict(X_test))}%\")\n",
    "print(f\"\\nFitting {num_features} features took {time() - start_time:.3f} seconds\")"
   ]
  },
  {
   "cell_type": "code",
   "execution_count": null,
   "metadata": {},
   "outputs": [],
   "source": []
  }
 ],
 "metadata": {
  "kernelspec": {
   "display_name": "Python 3 (ipykernel)",
   "language": "python",
   "name": "python3"
  },
  "language_info": {
   "codemirror_mode": {
    "name": "ipython",
    "version": 3
   },
   "file_extension": ".py",
   "mimetype": "text/x-python",
   "name": "python",
   "nbconvert_exporter": "python",
   "pygments_lexer": "ipython3",
   "version": "3.11.0"
  }
 },
 "nbformat": 4,
 "nbformat_minor": 4
}
